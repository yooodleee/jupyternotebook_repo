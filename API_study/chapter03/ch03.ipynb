{
 "cells": [
  {
   "cell_type": "markdown",
   "metadata": {},
   "source": [
    "## **3장. OpenAPI 정의서 첫인상**"
   ]
  },
  {
   "cell_type": "markdown",
   "metadata": {},
   "source": [
    "OpenAPI 정의서는 API 워크플로우 자동화의 핵심이다.\n",
    "OpenAPI가 빠진 자동화란 앙꼬 없는 찐빵과 같다.\n",
    "OpenAPI 정의서는 그만큼 아주 중요하다."
   ]
  },
  {
   "cell_type": "markdown",
   "metadata": {},
   "source": [
    "API를 형식에 맞게 기술하는 것은 API에 포함돼 있는 아이디어를 정의서(definition)라고 부르는 데이터로 변환하는 것을 의미한다.\n",
    "이런 형식적 기술하기(formatl description)는 아무런 제약이나 문법 구조 없이 비형식적으로 기술하는 비형식적 기술하기(informal description)와는 다르다.\n",
    "비형식적 기술하기는 일반적인 웹 사이트에 소개되는 글과 비슷하다.\n",
    "사람이 읽기에는 기계가 판독하기는 어렵다."
   ]
  },
  {
   "cell_type": "markdown",
   "metadata": {},
   "source": [
    "API 정의서가 형식에 맞게 기술되면 기계가 이를 읽어서 요청 검증(validation), 코드 스텁 생성, 문서화 등 API 생태계의 여러 부분을 자동화할 수 있다."
   ]
  },
  {
   "cell_type": "markdown",
   "metadata": {},
   "source": [
    "3장에서는 직판장 API에서 제공하는 간단한 작업을 대상으로 형식적 정의서를 기술해 본다.\n",
    "이를 위해 먼저 해당 작업 처리에 무엇이 필요한지 알아보고, 형식적 정의서를 기술하기 위해 YAML 문법을 살펴보고, 마지막으로 해당 API에 대한 OpenAPI 정의서 일부를 작성해 볼 것이다."
   ]
  },
  {
   "cell_type": "markdown",
   "metadata": {},
   "source": [
    "앞으로 다룰 주제는 다음과 같다.\n",
    "\n",
    "* 직판장 API: https://farmstall.designapis.com/v1\n",
    "\n",
    "* YAML: https://yaml.org\n",
    "\n",
    "* OpenAPI 정의서: https://github.com/OAI/OpenAPI-Specification"
   ]
  },
  {
   "cell_type": "markdown",
   "metadata": {},
   "source": [
    "### **3.1. 문제 정의**\n",
    "---"
   ]
  },
  {
   "cell_type": "markdown",
   "metadata": {},
   "source": [
    "3장에서는 직판장 API가 수행하는 단순한 작업을 형식적으로 기술해 본다.\n",
    "먼저 API 상세 내용을 알아보고 API 정의서 일부를 작성한다.\n",
    "OpenAPI 정의서에서 요구되는 준비 코드를 작성하지 않을 예정이므로 이번에 작성한 정의서는 형식 검증을 통과하지는 못한다.\n",
    "준비 코드를 포함한 검증은 곧 살펴볼 것이다."
   ]
  },
  {
   "cell_type": "markdown",
   "metadata": {},
   "source": [
    "3장을 마치면 다음과 같은 OpenAPI 정의서 일부분이 작성된다."
   ]
  },
  {
   "cell_type": "raw",
   "metadata": {
    "vscode": {
     "languageId": "raw"
    }
   },
   "source": [
    "/reviews:\n",
    "    get:\n",
    "        description: Get a list of reviews\n",
    "        parameters:\n",
    "        - name: maxRating\n",
    "            in: query\n",
    "            schema:\n",
    "                type: number\n",
    "        responses:\n",
    "            200:\n",
    "                description: A list of reviews"
   ]
  },
  {
   "cell_type": "markdown",
   "metadata": {},
   "source": [
    "직판장 API의 GET / reviews를 비형식적으로 기술하면 다음과 같다."
   ]
  },
  {
   "cell_type": "raw",
   "metadata": {
    "vscode": {
     "languageId": "raw"
    }
   },
   "source": [
    "GET / reviews\n",
    "\n",
    "직판장 API에 등록된 후기 목록을 반환한다.\n",
    "후기 목록은 maxRating 쿼리 파라미터로 필터링될 수 있다.\n",
    "각 후기는 message 필드와 rating 필드를 갖고 있는 객체다."
   ]
  },
  {
   "cell_type": "markdown",
   "metadata": {},
   "source": [
    "HTTP 메서드인 GET과 URI(/reviews)처럼 이 작업의 핵심을 이루는 부분 외에 maxRating 쿼리 파라미터에 대한 서렴ㅇ도 필요하다.\n",
    "응답 본문에 대해서는 따로 기술하지 않겠다.\n",
    "\n",
    "* maxRating\n",
    "    * 설명: 지정된 평점 이후의 후기만 반환\n",
    "    * 위치: 쿼리\n",
    "    * 타입: number\n",
    "    * 참고: 최저 1점, 최고 5점"
   ]
  },
  {
   "cell_type": "markdown",
   "metadata": {},
   "source": [
    "API 정의의 품질은 작성하기에 따라 쓸모없을 정도로 모호한 수준부터 지나치게 정확한 수준까지 매우 다양하게 나타난다.\n",
    "물론 후자 쪽이 낫지만 그렇게 작성하면 너무 많은 비용이 소모되어 실익이 떨어지므로 적절한 균형점을 찾는 것이 중요하다.\n",
    "일반적으로 개발자가 실제 호스팅될 API에 접근하지 않고도 클라이언트를 만들 수 있는 수준이며 충분하다.\n",
    "물론 더 정확하다면 API 생태께에 존재하는 도구들이 OpenAPI 정의서를 더 잘 읽고 사용할 수 있으므로 바람직하지만, 일단은 개발자가 필요한 수준의 정보를 얻을 수 있다면 충분하다.\n",
    "작성 비용도 중요한 요소로 고려해야 하며 중요하지 않은 부분에 시간을 낭비하지 않도록 주의해야 한다.\n",
    "처음에는 기본 정의서로 시작해서 점차 살을 붙여나가는 방식도 좋다.\n",
    "하지만 어느 선을 넘어서면 이미 기술된 내용에 무언가를 추가할수록 효과는 오히려 줄어들 수 있다."
   ]
  },
  {
   "cell_type": "markdown",
   "metadata": {},
   "source": [
    "### **3.2. OpenAPI 명세 소개**\n",
    "---"
   ]
  },
  {
   "cell_type": "markdown",
   "metadata": {},
   "source": [
    "형식적 기술하기는 어떻게 기술해야 하는지 정해놓은 표준이나 규격이 필요하다.\n",
    "OpenAPI 명세서는 RESTful API 또는 HTTP API를 기술하는 방법을 형식적으로 규정해 놓은 규격이다.\n",
    "쉽게 생각하면 일종의 공식 템플릿이라고 볼 수 있다."
   ]
  },
  {
   "cell_type": "markdown",
   "metadata": {},
   "source": [
    "템플릿을 따라 작성하면 사람과 기계 모두 관련 도구를 사용해 정의서를 읽고 활용할 수 있다.\n",
    "명세에 따라 작성되면 단순히 기술된 내용을 이해하는 것에 그치지 않고 자동화를 통해 훨씬 더 적은 노력으로 많은 효과를 얻을 수 있다."
   ]
  },
  {
   "cell_type": "markdown",
   "metadata": {},
   "source": [
    "이제 OpenAPI 정의서 일부를 살펴보자."
   ]
  },
  {
   "cell_type": "raw",
   "metadata": {
    "vscode": {
     "languageId": "raw"
    }
   },
   "source": [
    "# OpenAPI 첫인상\n",
    "\n",
    "openapi: 3.0.3\n",
    "# ...\n",
    "paths:\n",
    "  /reviews: # 경로 또는 URI\n",
    "    get:  # HTTP 메서드\n",
    "      description: Get a bunch of reviews # 사람이 읽을 수 있는 작업 설명\n",
    "      parameters: # 파라미터 목록\n",
    "      - name: maxRating # 파라미터 이름\n",
    "      descroption: |  # 사람이 읽을 수 있는 파라미터 설명\n",
    "        Filter the reviews\n",
    "        by the maximum rating\n",
    "      in: query # 파라미터 삽입\n",
    "      schema:\n",
    "        type: string  # 파라미터 스키마 타입(값도 허용)\n",
    "    responses: # 응답 목록\n",
    "      200:  # HTTP 상태 코드\n",
    "        description: A bunch of reviews # 사람이 읽을 수 있는 응답 설명"
   ]
  },
  {
   "cell_type": "markdown",
   "metadata": {
    "vscode": {
     "languageId": "raw"
    }
   },
   "source": [
    "가장 먼저 눈에 띄는 들여쓰기는 어떤 의미일까?\n",
    "대시(-)와 콜론은 또 무엇일까?\n",
    "들여쓰기와 대시, 콜론을 사용하는 것이 바로 YAML이다.\n",
    "JSON을 알고 있다면 YAML도 조금만 들여다보면 쉽게 이해할 수 있을 것이다.\n",
    "일단 지금은 문법을 모두 알 필요는 없고 OpenAPI 정의가 어떻게 생겼는지 대략적인 느낌만 기억해도 충분하다."
   ]
  },
  {
   "cell_type": "markdown",
   "metadata": {},
   "source": [
    "### **3.3. YAML 훑어보기**\n",
    "---"
   ]
  },
  {
   "cell_type": "markdown",
   "metadata": {},
   "source": [
    "API 정의서를 작성하려면 OpenAPI 명세를 준수하는 데이터 형식이 필요하다.\n",
    "JSON을 사용할 수도 있지만, JSON을 직접 타이핑해 보면 굉장히 고통스럽다는 것을 금방 느끼게 된다."
   ]
  },
  {
   "cell_type": "markdown",
   "metadata": {},
   "source": [
    "YAML은 특히 사람이 직접 작성해야 하는 곳에서 JSON을 대신해 널리 사용된다.\n",
    "YAML은 JSON보다 제약이 더 적으며 동일한 데이터를 여러 가지 방식으로 표현될 수도 있다.\n",
    "예컨대 문자열에 따옴표를 붙여도 되고 안 붙여도 되며, 끝에 붙이는 쉼표(trailing comma)도 허용된다."
   ]
  },
  {
   "cell_type": "markdown",
   "metadata": {},
   "source": [
    "YAML은 플로우 타입(flow type)을 지원한다.\n",
    "플로우 타입이란 JSON 객체({})나 배열([]) 타입을 의미한다.\n",
    "이 덕분에 YAML은 JSON의 세트라고 할 수 있으며, 이는 모든 JSON 문서는 유효한 YAML 문서이기도 하다는 뜻이다."
   ]
  },
  {
   "cell_type": "markdown",
   "metadata": {},
   "source": [
    "JSON은 웹 생태계에서 사실상의 의사소통 표준이라고 할 수 있다.\n",
    "JSON은 대부분의 프로그래밍 언어에서 가장 저수준의 공통 분모 같은 데이터 타입이라고 할 수 있다.\n",
    "대부분의 프로그래머가 한눈에 보고 직관적으로 이해할 수 있을 정도로 간결하고 기초적이며, JSON 문법은 한 장의 명함에 작성할 수 있을 정도로 간단하다."
   ]
  },
  {
   "cell_type": "markdown",
   "metadata": {},
   "source": [
    "#### **3.3.1. JSON에서 YAML로**"
   ]
  },
  {
   "cell_type": "markdown",
   "metadata": {},
   "source": [
    "YAML은 처음에는 'Yet Another Marup Language'의 약자였지만 지금은 'YAML Ain't Markup Language'의 약자다.\n",
    "\n",
    "YAML 명세는 굉장히 방대하며 여러 가지 스타일(또는 스키마)가 있다.\n",
    "Open API는 방대한 YAML 명세 중 필요한 최소한의 일부에 집중하는데, 그 일부가 바로 YAML 1.2(https://yaml.org/spec/1.2.2/)에 있는 YAML의 SJON 스키마다."
   ]
  },
  {
   "cell_type": "markdown",
   "metadata": {},
   "source": [
    "스키마와 명세에 관한 얘기가 나오면 슬슬 위압감이 들기 시작하지만, YAML은 사실 JSON의 상위 호환 버전이라고 생각할 수 있으며 사용법도 꽤 간단하다.\n",
    "YAML을 직접 보고 느껴보자."
   ]
  },
  {
   "cell_type": "raw",
   "metadata": {
    "vscode": {
     "languageId": "raw"
    }
   },
   "source": [
    "// YAML 맛보기\n",
    "\n",
    "SomeNumber: 1\n",
    "SomeString: hello over there!       // 문자열은 반드시 따옴표로 감쌀 필요가 없다. 물론 따옴표로 감싸도 된다.\n",
    "IsSomething: true\n",
    "# 주석  // YAML은 주석을 사용할 수 있다.\n",
    "SomeObject:\n",
    "    SomeKey: Some string value  // YAML은 중첩 객체와 배열은 표현하기 위해 들여쓰기를 사용. 일관성만 지켜주면 된다.\n",
    "    SomeNestedObject:\n",
    "        Key: With a nested key/value pair   // 들여 쓰는 칸의 크기에 대한 일관성도 같은 맵이나 시퀀스 안에 있는 범위 안에서만 지켜주면 됨.\n",
    "AList:\n",
    "    - a string\n",
    "    - another string\n",
    "    SomeOldSchoolJSONObject: { one: 1, two: 2 }\n",
    "    SomeOldSchoolJOSNArray: [ \"one\", 'two', three ] // YAML은 JSON의 슈페스트라서 JSON이 필요한 곳에서는 JSON을 사용할 수 있다.\n",
    "    MultiLuneString: |  // YAML은 멀티라인 문자열을 지원하며 사용 가능한 방식도 여러 가지다. | 을 사용하면 문단 사이의 공백 항과 문장 끝의 공백 행유지\n",
    "        hello over there,\n",
    "        this is a multiline string!"
   ]
  },
  {
   "cell_type": "markdown",
   "metadata": {
    "vscode": {
     "languageId": "raw"
    }
   },
   "source": [
    "위 예제에 있는 YAML을 JSON으로 표현하면 다음과 같다."
   ]
  },
  {
   "cell_type": "raw",
   "metadata": {
    "vscode": {
     "languageId": "raw"
    }
   },
   "source": [
    "// 동일한 데이터를 표현하는 JSON\n",
    "\n",
    "{\n",
    "    \"SomeNumber\": 1,\n",
    "    \"SomeString\": \"hello over there!\",\n",
    "    \"IsSomething\": true,\n",
    "    \"SomeObject\": {\n",
    "        \"SomeKey\": \"Some string value\",\n",
    "        \"SomeNestedObject\": {\n",
    "            \"Key\": \"With a nested key/value pair\"\n",
    "        }\n",
    "    },\n",
    "    \"AList\": [\n",
    "        \"a string\",\n",
    "        \"another string\"\n",
    "    ],\n",
    "    \"SomeOldSchoolJSONObject\": {\n",
    "        \"one\": 1,\n",
    "        \"two\": 2\n",
    "    },\n",
    "    \"SomeOldSchoolJOSNArray\": [\n",
    "        \"one\",\n",
    "        'two',\n",
    "        three\n",
    "    ],\n",
    "    \"MultiLineString\": \"hello over there, \\nthis is a multiline string!\\n\"\n",
    "}"
   ]
  },
  {
   "cell_type": "markdown",
   "metadata": {},
   "source": [
    "YAML이 JSON과 매우 비슷하다는 걸 어렵지 않게 알 수 있다.\n",
    "그리고 OpenAPI가 JSON 형식만 지원하기 때문에 OpenAPI나 파서(parser)를 이용하면 YAML을 사용할 수도 있다.\n",
    "YAML에는 고급/사용자 정의 데이터 타입, 앵커(anchor) 등 JSON에는 없는 고급 기능이 많이 있지만, OpenAPI 정의서를 기술하는 데는 필요하지 않으므로 더 자세히 다루지는 않는다.\n",
    "YAML 관련 자세한 기능은 https://yaml.org/를 참고한다."
   ]
  },
  {
   "cell_type": "markdown",
   "metadata": {},
   "source": [
    "YAML을 사용하면 데이터를 작성할 수 있다.\n",
    "그것만으로도 YAML은 굉장히 강력하지만, 우리는 OpenAPI를 필요로 하고, OpenAPI가 API를 기술하는 데 YAML을 사용한다는 점이 우리에게 더 큰 의미가 있다."
   ]
  },
  {
   "cell_type": "markdown",
   "metadata": {},
   "source": [
    "### **3.4. GET 연산 기술하기**\n",
    "---"
   ]
  },
  {
   "cell_type": "markdown",
   "metadata": {},
   "source": [
    "하나의 연산(operation)은 URL과 HTTP 메서드로 정의할 수 있다.\n",
    "예컨대 GET / reviews는 하나의 연산이고, POST /reviews와는 구별되는 연산이다.\n",
    "여기서는 GET /reviews에 집중해서 요청을 처리하는 과정을 살펴본다."
   ]
  },
  {
   "cell_type": "markdown",
   "metadata": {},
   "source": [
    "현재 알고 있는 핵심 정보는 다음과 같다."
   ]
  },
  {
   "cell_type": "markdown",
   "metadata": {},
   "source": [
    "* 경로: /reviews\n",
    "* 메서드: GET\n",
    "* 반환 데이터: 후기 목록"
   ]
  },
  {
   "cell_type": "markdown",
   "metadata": {},
   "source": [
    "이제 OpenAPI 정의서를 구성해보자."
   ]
  },
  {
   "cell_type": "raw",
   "metadata": {
    "vscode": {
     "languageId": "raw"
    }
   },
   "source": [
    "// GET 연산 정의서 기본 골격\n",
    "\n",
    "/reviews:       # 서버에 대한 상대 경로\n",
    "    get:        # HTTP 메서드 이름을 소문자로 작성\n",
    "        description: Gets a bunch of reviews.   # 연산에 대한 설명. 필수는 아니지만 작성하면 유용하다.\n",
    "        response:   # 응답 객체. 응답 상태 코드별 여러 응답을 가질 수 있다.\n",
    "            200:    # 200 응답. 응답 상태 코드별로 1개씩만 기술할 수 있지만, 복합 응답(complex response)를 사용할 수 있으므로 크게 불편하지는 않다.\n",
    "                description: A bunch of reviews.    # 응답 설명. 응답에서 유일한 필수 요소"
   ]
  },
  {
   "cell_type": "markdown",
   "metadata": {},
   "source": [
    "OpenAPI 명세에 따르면 위의 예제는 연산의 핵심 세부 정보라고 할 수 있다.\n",
    "물론 아직 완성된 OpenAPI 문서는 아니고 일부만 작성된 상태다.\n",
    "이를 바탕으로 OpenAPI 정의서를 차근차근 완성할 것이다."
   ]
  },
  {
   "cell_type": "markdown",
   "metadata": {},
   "source": [
    "\"쿼리 파라미터는 어디 있는 것일까?\"라는 질문이 떠오를 수 있는데, 아주 좋은 질문이다.\n",
    "쿼리 파라미터인 maxRating도 추가해야 한다."
   ]
  },
  {
   "cell_type": "markdown",
   "metadata": {},
   "source": [
    "### **3.5. GET 연산 확장**\n",
    "---"
   ]
  },
  {
   "cell_type": "markdown",
   "metadata": {},
   "source": [
    "앞서 작성된 OpenAPI 문서 일부에 쿼리 파라미터 관련 내용을 추가할 수 있다.\n",
    "maxRating 파라미터는 후기를 평점(rating)으로 필터링하는 데 사용된다."
   ]
  },
  {
   "cell_type": "markdown",
   "metadata": {},
   "source": [
    "다음은 GET /reviews의 파라미터가 나와 있다.\n",
    "이를 통해 다음 정보를 알게 되었다."
   ]
  },
  {
   "cell_type": "markdown",
   "metadata": {},
   "source": [
    "maxRating(parameter) / 지정한 값 이하의 후기만 반환(description) / 쿼리(position) / number(type) / 최저 1 점, 최고 5점"
   ]
  },
  {
   "cell_type": "markdown",
   "metadata": {},
   "source": [
    "* 최소 1, 최대 5라는 값을 갖는 숫잣값이다.\n",
    "* 쿼리 문자열에 사용된다.\n",
    "* 이름이 maxRating이다."
   ]
  },
  {
   "cell_type": "markdown",
   "metadata": {},
   "source": [
    "쿼리 파라미터는 다음과 같이 기술할 수 있다."
   ]
  },
  {
   "cell_type": "raw",
   "metadata": {
    "vscode": {
     "languageId": "raw"
    }
   },
   "source": [
    "// maxRating 쿼리 파라미터\n",
    "\n",
    "name: maxRating     # 파라미터 이름\n",
    "description: Filter reviews by the maximum rating   # 사람이 읽을 수 있는 설명\n",
    "in: query   # 파라미터 사용 위치, query 외의 값을 사용할 수도 있다.\n",
    "schema: # 파라미터 스키마\n",
    "    type: number    # 숫자 타입"
   ]
  },
  {
   "cell_type": "markdown",
   "metadata": {},
   "source": [
    "이제 좀 더 OpenAPI스러워진 것 같다.\n",
    "위의 예제 역시 OpenAPI 문서의 일부이며, 전체적인 OpenAPI 정의서는 다음과 같이 작성할 수 있다."
   ]
  },
  {
   "cell_type": "raw",
   "metadata": {
    "vscode": {
     "languageId": "raw"
    }
   },
   "source": [
    "// maxRating 쿼리 파라미터 정보를 OpenAPI 정의서에 추가\n",
    "\n",
    "/reviews:\n",
    "    get:\n",
    "        description: Get a bunch of reviews\n",
    "        parameters: # 파라미터 필드\n",
    "        - name: maxRating   # 파라미터 객체와 첫 번째 필드\n",
    "          description: Filter reviews by the maximum rating\n",
    "          in: query\n",
    "          schema:\n",
    "            type: number    # 파라미터 객체 정보 종료. 다음 줄에서 들여쓰기가 달라진다.\n",
    "        responses:\n",
    "            200:\n",
    "                description: A bunch of reviews"
   ]
  },
  {
   "cell_type": "markdown",
   "metadata": {},
   "source": [
    "예제에 있던 파라미터 정보를 parameters 필드 아래에 추가했다.\n",
    "name 앞에 사용된 대시(-)는 바로 상위에 있는 parameters의 원소임을 나타내며, name, description, in, schema로 구성된 객체가 parameters의 첫 번째 원소다."
   ]
  },
  {
   "cell_type": "markdown",
   "metadata": {},
   "source": []
  }
 ],
 "metadata": {
  "kernelspec": {
   "display_name": "venv",
   "language": "python",
   "name": "python3"
  },
  "language_info": {
   "codemirror_mode": {
    "name": "ipython",
    "version": 3
   },
   "file_extension": ".py",
   "mimetype": "text/x-python",
   "name": "python",
   "nbconvert_exporter": "python",
   "pygments_lexer": "ipython3",
   "version": "3.9.21"
  }
 },
 "nbformat": 4,
 "nbformat_minor": 2
}
