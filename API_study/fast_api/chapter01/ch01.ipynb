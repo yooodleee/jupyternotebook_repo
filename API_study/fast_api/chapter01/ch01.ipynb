{
 "cells": [
  {
   "cell_type": "markdown",
   "metadata": {},
   "source": [
    "## **CHAPTER 1. FastAPI 개발 환경 구축**"
   ]
  },
  {
   "cell_type": "markdown",
   "metadata": {},
   "source": [
    "이 장에서는 FastAPI를 이용한 웹 개발 환경을 구축하는 방법을 설명한다.\n",
    "가상 환경을 구축하기 위해 포어트리를 이용하는 방법을 배우고, 엔드포인트가 하나인 아주 단순한 서버를 구축한다.\n",
    "또한 FastAPI가 자동으로 생성해주는 API 문서를 살펴보고, 데이터베이스를 활용할 준비를 마친다."
   ]
  },
  {
   "cell_type": "markdown",
   "metadata": {},
   "source": [
    "### **1.1. FastAPI 소개**\n",
    "---"
   ]
  },
  {
   "cell_type": "markdown",
   "metadata": {},
   "source": [
    "FastAPI(https://fastapi.tiangolo.com)는 파이썬 기반의 오픈소스 웹 프레임워크다.\n",
    "2018년에 세바스티안 라미레스가 세상에 처음 선보인 이후 꾸준히 발전하고 있다.\n",
    "넷플릭스, 우버, 시스코 시스템즈 등의 큰 조직에서 널리 활용되고 있다.\n",
    "스택 오퍼블로우(Stack Overflow)에서 진행한 2024냔 설문 조사 중 '웹 프레임워크 및 기술' 항목에서는 14위를 차지했다.\n",
    "파이썬 기반의 웹 프레임워크로 제한하면 플라스크, 장고의 뒤를 이어 3위를 차지하고 있다."
   ]
  },
  {
   "cell_type": "markdown",
   "metadata": {},
   "source": [
    "FastAPI는 파이썬 3.7 버전 이상을 요구로 한다.\n",
    "파이썬에서 제공하는 타입 힌트를 적극 활용하고 있다.\n",
    "공식 문서에서 이야기하는 주요 특징은 다음과 같다."
   ]
  },
  {
   "cell_type": "markdown",
   "metadata": {},
   "source": [
    "1. 실행 속도가 빠르다.\n",
    "    FastAPI는 스탈렛, ASGI와 파이단틱을 적용했다. 이에 다라 현재 사용할 수 있는 파이썬 프레임워크 중 가장 빠른 성능을 자랑한다. Node.js, Go와 비교해 동등한 성능을 가지고 있다.\n",
    "2. 코드 생산성이 높다.\n",
    "    다른 프레임워크에 비해 기능 개발 속도가 약 2배에서 3배 빠르다.\n",
    "3. 버그가 줄어든다.\n",
    "    개발자가 만드는 오류는 약 40%로 줄어든다.\n",
    "4. 직관적이다.\n",
    "    VScode나 PyCharm 같은 훌륭한 편집기의 지원으로 어떤 코드를 작성하든 자동 완성 기능을 사용할 수 있다. 이 덕분에 디버깅에 투자하는 시간이 줄어든다.\n",
    "5. 쉽다.\n",
    "    사용하고 배우기 쉽도록 설계됐다. 문서를 읽는 데 들이는 시간이 줄어든다.\n",
    "6. 간결하다.\n",
    "    코드 중복을 최소화한다. 각 매개변수를 선언하는 것으로 여러 기능을 얻을 수 있다. 이에 따라 버그가 줄어든다.\n",
    "7. 강건하다.\n",
    "    프로덕션에서 사용할 수준의 코드를 쉽게 작성할 수 있다. 또한 API 문서를 자동으로 생성한다.\n",
    "8. 표준을 준수한다.\n",
    "    API에 대한 표준인 OpenAPI(이전 swagger) JSON 스키마를 기반으로 하며 이와 완전히 호환된다."
   ]
  },
  {
   "cell_type": "markdown",
   "metadata": {},
   "source": [
    "웹 프레임어크 벤치마크 결과를 보면 FastAPI의 성능을 가늠해볼 수 있다.\n",
    "microdot-asgi-raw는 가볍고, 단순한 웹 프레임워크로서 고성능의 비동기 웹 애플리케이션을 작성할 수 있다.\n",
    "따라서 마이크로서비스나 IoT 장치와 같이 리소스가 제한된 환경과 같은 기본적인 웹 애플리케이션을 충족시킬 수 있으면 사용할 수 있다.\n",
    "하지만 여러 라이브러리 생태계와 추가 기능을 이용하기에는 제한적이기 때문에 일반적인 웹 애플리케이션을 개발하기에 적절하지 않다."
   ]
  },
  {
   "cell_type": "markdown",
   "metadata": {},
   "source": [
    "파이썬 기반 웹 프레임워크 중 가장 많이 사용하는 장고(Django), 플라스크(Flask)와 FastAPI의 특징을 비교해보자."
   ]
  },
  {
   "cell_type": "markdown",
   "metadata": {},
   "source": [
    "* 장고:\n",
    "    * 기능이 풍부하다. 웹 프레임워크가 갖추어야 할 수많은 기능이 내장돼 있다. 특히 장고의 객체 관계 매핑으로 데이터베이스를 쉽게 다룰 수 있다. 하지만 이로 인해 동작이 무겁고 구동에 시간이 더 소요된다.\n",
    "    * MVC(model-view-controller) 또는 MVT(model-view-template) 패턴을 기본 아키텍처로 가진다.\n",
    "    * 장고 어드민 앱을 지원하므로, 어드민 기능을 손쉽게 구현할 수 있다.\n",
    "    * 공식 문서가 상세하고 참고 자료가 많다.\n",
    "    * 다른 프레임워크에 비해 학습 시간이 더 필요하다.\n",
    "\n",
    "* 플라스크:\n",
    "    * 가볍게 구동시킬 수 있는 서버를 빨리 만들 수 있다.\n",
    "    * 라우팅, 템플릿, 데이터베이스 연동 등의 기능을 기본으로 제공한다.\n",
    "    * 기본으로 제공하는 기능이 적으므로 필요한 기능을 확장할 때 적합한 라이브러리를 직접 찾아서 적용해야 한다. 하지만 그만큼 자유도가 높다.\n",
    "    * 빠르게 프로토타이핑하기에 적합하다.\n",
    "\n",
    "* FastAPI:\n",
    "    * 장고와 플라스크의 중간 정도의 기본 기능을 제공하지만 가볍고 속도가 빠르다.\n",
    "    * 학습 곡선이 낮으므로 쉽게 배울 수 있다.\n",
    "    * 다른 프레임워크에 비해 커뮤니티 수가 적고 자료가 부족하다."
   ]
  },
  {
   "cell_type": "markdown",
   "metadata": {},
   "source": [
    "### **1.2. 포어트리를 이용한 가상 환경과 의존성 관리**\n",
    "---"
   ]
  },
  {
   "cell_type": "markdown",
   "metadata": {},
   "source": [
    "포어트리(Poetry)는 패키징 생태계를 더욱 예측 가능하고 간편하게 다룰 수 있는 환경을 제공하는 것을 목표로 하는 오픈소스 프로젝트다.\n",
    "포어트리를 설치하면 다음과 같은 작업을 수행할 수 있다.\n",
    "\n",
    "* 새로운 파이썬 프로젝트와 가상 환경을 함께 생성한다.\n",
    "* 기존 프로젝트에 가상 환경을 초기화할 수 있다.\n",
    "* 프로젝트 의존성을 관리한다.\n",
    "* 라이브러리를 패키징한다."
   ]
  },
  {
   "cell_type": "markdown",
   "metadata": {},
   "source": [
    "포어트리를 사용하려면 먼저 `pip`를 이용해 먼저 포어트리를 사용자 환경에 설치해야 한다.\n",
    "참고로 포어트리 공식 문서에는 OS 별로 설치하는 방법을 안내하고 있지만 `pip`를 이용하면 OS에 상관없이 설치해 사용할 수 있다."
   ]
  },
  {
   "cell_type": "markdown",
   "metadata": {},
   "source": [
    "```\n",
    "pip install poetry\n",
    "```"
   ]
  },
  {
   "cell_type": "markdown",
   "metadata": {},
   "source": [
    "이제 프로젝트 소스를 저장할 디렉터리를 생성하고 `poetry init` 명령어로 가상 환경을 설정한다."
   ]
  },
  {
   "cell_type": "markdown",
   "metadata": {},
   "source": [
    "예컨대 패키지를 추가하고자 한다면 다음과 같이 선언할 수 있다.\n",
    "\n",
    "* 패키지 이름: `requests`\n",
    "* 패키지와 특정 버전: `requests@^2.23.0`\n",
    "* 깃 URL: `git+https://github.com/python-poetry/poetry.git`\n",
    "* 깃 URL과 특정 리비전: `git+https://github.com/python-poetry/poetry.git#develop`\n",
    "* 로컬 PC의 패키지 설치 파일 경로: `../my-package/my-package.whl`\n",
    "* 패키지 설치 파일이 있는 URL: `https://example.com/packages/my-package-0.1.0.tar.gz`"
   ]
  },
  {
   "cell_type": "markdown",
   "metadata": {},
   "source": [
    "가상 환경 설정을 마치면 pyproject.toml 파일이 생성된다.\n",
    "이제 새로운 패키지가 필요하다면 이 파일에 직접 추가하고 `pip install` 명령으로 설치해도 된다.\n",
    "참고로 `poetry new {project-name}` 명령어를 실행하면 project-name 디렉터리 생성과 함께 pyproject.toml 파일이 생성된다."
   ]
  },
  {
   "cell_type": "markdown",
   "metadata": {},
   "source": [
    "가상 환경을 설정했으나 아직 가상 환경이 실행된 상태는 아니다.\n",
    "가상 환경을 구동하려면 `poetry shell` 명령을 입력한다."
   ]
  },
  {
   "cell_type": "markdown",
   "metadata": {},
   "source": [
    "### **1.3. Hello, FastAPI!**"
   ]
  },
  {
   "cell_type": "markdown",
   "metadata": {},
   "source": [
    "이제 FastAPI를 설치해본다."
   ]
  },
  {
   "cell_type": "code",
   "execution_count": 1,
   "metadata": {},
   "outputs": [
    {
     "name": "stdout",
     "output_type": "stream",
     "text": [
      "Requirement already satisfied: fastapi in c:\\users\\legion\\.pyenv\\pyenv-win\\versions\\3.9.13\\lib\\site-packages (0.115.4)\n",
      "Requirement already satisfied: starlette<0.42.0,>=0.40.0 in c:\\users\\legion\\.pyenv\\pyenv-win\\versions\\3.9.13\\lib\\site-packages (from fastapi) (0.41.2)\n",
      "Requirement already satisfied: pydantic!=1.8,!=1.8.1,!=2.0.0,!=2.0.1,!=2.1.0,<3.0.0,>=1.7.4 in c:\\users\\legion\\.pyenv\\pyenv-win\\versions\\3.9.13\\lib\\site-packages (from fastapi) (2.9.2)\n",
      "Requirement already satisfied: typing-extensions>=4.8.0 in c:\\users\\legion\\.pyenv\\pyenv-win\\versions\\3.9.13\\lib\\site-packages (from fastapi) (4.12.2)\n",
      "Requirement already satisfied: annotated-types>=0.6.0 in c:\\users\\legion\\.pyenv\\pyenv-win\\versions\\3.9.13\\lib\\site-packages (from pydantic!=1.8,!=1.8.1,!=2.0.0,!=2.0.1,!=2.1.0,<3.0.0,>=1.7.4->fastapi) (0.7.0)\n",
      "Requirement already satisfied: pydantic-core==2.23.4 in c:\\users\\legion\\.pyenv\\pyenv-win\\versions\\3.9.13\\lib\\site-packages (from pydantic!=1.8,!=1.8.1,!=2.0.0,!=2.0.1,!=2.1.0,<3.0.0,>=1.7.4->fastapi) (2.23.4)\n",
      "Requirement already satisfied: anyio<5,>=3.4.0 in c:\\users\\legion\\.pyenv\\pyenv-win\\versions\\3.9.13\\lib\\site-packages (from starlette<0.42.0,>=0.40.0->fastapi) (4.6.2.post1)\n",
      "Requirement already satisfied: idna>=2.8 in c:\\users\\legion\\.pyenv\\pyenv-win\\versions\\3.9.13\\lib\\site-packages (from anyio<5,>=3.4.0->starlette<0.42.0,>=0.40.0->fastapi) (3.10)\n",
      "Requirement already satisfied: sniffio>=1.1 in c:\\users\\legion\\.pyenv\\pyenv-win\\versions\\3.9.13\\lib\\site-packages (from anyio<5,>=3.4.0->starlette<0.42.0,>=0.40.0->fastapi) (1.3.1)\n",
      "Requirement already satisfied: exceptiongroup>=1.0.2 in c:\\users\\legion\\.pyenv\\pyenv-win\\versions\\3.9.13\\lib\\site-packages (from anyio<5,>=3.4.0->starlette<0.42.0,>=0.40.0->fastapi) (1.2.2)\n"
     ]
    },
    {
     "name": "stderr",
     "output_type": "stream",
     "text": [
      "\n",
      "[notice] A new release of pip is available: 24.3.1 -> 25.0\n",
      "[notice] To update, run: python.exe -m pip install --upgrade pip\n"
     ]
    }
   ],
   "source": [
    "!pip install fastapi"
   ]
  },
  {
   "cell_type": "markdown",
   "metadata": {},
   "source": [
    "FastAPI를 구동시키려면 ASGI(asyncrhonous server gateway interface) 서버가 필요하다.\n",
    "공식 문서에서는 유비콘 또는 하이퍼콘을 추천한다."
   ]
  },
  {
   "cell_type": "markdown",
   "metadata": {},
   "source": [
    "유비콘(Uvicorn)은 파이썬 기반의 ASGI 서버이며, 비동기 코드를 지원한다.\n",
    "유비콘은 성능이 매우 우수하고 빠르며 대규모 응용 프로그램에 적합하다.\n",
    "하이퍼콘(Hypercorn)도 비동기 코드를 지원하는 ASGI 서버이지만, 유비콘보다는 약간 느릴 수 있다.\n",
    "하지만 높은 처리량이나 낮은 지연시간을 필요로 하는 작업에는 하이퍼콘이 적합하다.\n",
    "하이퍼콘은 여러 프레임워크에 호환되는 플러그인 시스템을 지원해 다양한 설정 및 확장 기능을 제공한다.\n",
    "이에 비해 유비콘은 주로 FastAPI와 함께 사용되도록 설계됐다.\n",
    "비동기 처리 방식에 있어 유비콘은 파이썬의 `uvloop` 라이브러리를 사용해 이벤트 루프를 빠르게 처리한다.\n",
    "하이퍼콘은 멀티 프로세스와 워커를 지원해 멀티 코어 시스템의 병렬처리를 쉽게 할 수 있다."
   ]
  },
  {
   "cell_type": "markdown",
   "metadata": {},
   "source": [
    "일반적으로 작은 규모의 프로젝트나 FastAPI만 사용하는 경우에는 유비콘이 적합하고, 더 복잡한 환경에서는 하이퍼콘이 더 많은 유연성을 제공한다고 할 수 있다."
   ]
  },
  {
   "cell_type": "code",
   "execution_count": 2,
   "metadata": {},
   "outputs": [
    {
     "name": "stdout",
     "output_type": "stream",
     "text": [
      "Collecting hypercorn\n",
      "  Downloading hypercorn-0.17.3-py3-none-any.whl.metadata (5.4 kB)\n",
      "Requirement already satisfied: exceptiongroup>=1.1.0 in c:\\users\\legion\\.pyenv\\pyenv-win\\versions\\3.9.13\\lib\\site-packages (from hypercorn) (1.2.2)\n",
      "Requirement already satisfied: h11 in c:\\users\\legion\\.pyenv\\pyenv-win\\versions\\3.9.13\\lib\\site-packages (from hypercorn) (0.14.0)\n",
      "Collecting h2>=3.1.0 (from hypercorn)\n",
      "  Downloading h2-4.2.0-py3-none-any.whl.metadata (5.1 kB)\n",
      "Collecting priority (from hypercorn)\n",
      "  Downloading priority-2.0.0-py3-none-any.whl.metadata (6.6 kB)\n",
      "Collecting taskgroup (from hypercorn)\n",
      "  Downloading taskgroup-0.2.2-py2.py3-none-any.whl.metadata (4.3 kB)\n",
      "Collecting tomli (from hypercorn)\n",
      "  Downloading tomli-2.2.1-py3-none-any.whl.metadata (10 kB)\n",
      "Requirement already satisfied: typing_extensions in c:\\users\\legion\\.pyenv\\pyenv-win\\versions\\3.9.13\\lib\\site-packages (from hypercorn) (4.12.2)\n",
      "Collecting wsproto>=0.14.0 (from hypercorn)\n",
      "  Downloading wsproto-1.2.0-py3-none-any.whl.metadata (5.6 kB)\n",
      "Collecting hyperframe<7,>=6.1 (from h2>=3.1.0->hypercorn)\n",
      "  Downloading hyperframe-6.1.0-py3-none-any.whl.metadata (4.3 kB)\n",
      "Collecting hpack<5,>=4.1 (from h2>=3.1.0->hypercorn)\n",
      "  Downloading hpack-4.1.0-py3-none-any.whl.metadata (4.6 kB)\n",
      "Downloading hypercorn-0.17.3-py3-none-any.whl (61 kB)\n",
      "Downloading h2-4.2.0-py3-none-any.whl (60 kB)\n",
      "Downloading wsproto-1.2.0-py3-none-any.whl (24 kB)\n",
      "Downloading priority-2.0.0-py3-none-any.whl (8.9 kB)\n",
      "Downloading taskgroup-0.2.2-py2.py3-none-any.whl (14 kB)\n",
      "Downloading tomli-2.2.1-py3-none-any.whl (14 kB)\n",
      "Downloading hpack-4.1.0-py3-none-any.whl (34 kB)\n",
      "Downloading hyperframe-6.1.0-py3-none-any.whl (13 kB)\n",
      "Installing collected packages: wsproto, tomli, taskgroup, priority, hyperframe, hpack, h2, hypercorn\n",
      "Successfully installed h2-4.2.0 hpack-4.1.0 hypercorn-0.17.3 hyperframe-6.1.0 priority-2.0.0 taskgroup-0.2.2 tomli-2.2.1 wsproto-1.2.0\n"
     ]
    },
    {
     "name": "stderr",
     "output_type": "stream",
     "text": [
      "\n",
      "[notice] A new release of pip is available: 24.3.1 -> 25.0\n",
      "[notice] To update, run: python.exe -m pip install --upgrade pip\n"
     ]
    }
   ],
   "source": [
    "!pip install hypercorn"
   ]
  },
  {
   "cell_type": "markdown",
   "metadata": {},
   "source": []
  }
 ],
 "metadata": {
  "kernelspec": {
   "display_name": "3.9.13",
   "language": "python",
   "name": "python3"
  },
  "language_info": {
   "codemirror_mode": {
    "name": "ipython",
    "version": 3
   },
   "file_extension": ".py",
   "mimetype": "text/x-python",
   "name": "python",
   "nbconvert_exporter": "python",
   "pygments_lexer": "ipython3",
   "version": "3.9.13"
  }
 },
 "nbformat": 4,
 "nbformat_minor": 2
}
